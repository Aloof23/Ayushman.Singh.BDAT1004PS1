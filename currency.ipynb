{
 "cells": [
  {
   "cell_type": "code",
   "execution_count": 5,
   "metadata": {},
   "outputs": [],
   "source": [
    "import numpy as np\n",
    "import pandas as pd"
   ]
  },
  {
   "cell_type": "code",
   "execution_count": 21,
   "metadata": {},
   "outputs": [],
   "source": [
    "with open(r'C:\\Users\\ayush\\Downloads/currencies.txt', 'r') as f:\n",
    "    contents = f.readlines()                                            #reading lines"
   ]
  },
  {
   "cell_type": "code",
   "execution_count": 22,
   "metadata": {},
   "outputs": [
    {
     "data": {
      "text/plain": [
       "'AUD\\t1.0345157\\tAustralian Dollar\\n'"
      ]
     },
     "execution_count": 22,
     "metadata": {},
     "output_type": "execute_result"
    }
   ],
   "source": [
    "contents[0]"
   ]
  },
  {
   "cell_type": "code",
   "execution_count": 9,
   "metadata": {},
   "outputs": [],
   "source": [
    "for i in range(len(contents)):                           #removing spaces and newlines\n",
    "    contents[i] = contents[i].split('\\t')\n",
    "    contents[i][2] = contents[i][2].replace('\\n', '')"
   ]
  },
  {
   "cell_type": "code",
   "execution_count": 10,
   "metadata": {},
   "outputs": [
    {
     "data": {
      "text/html": [
       "<div>\n",
       "<style scoped>\n",
       "    .dataframe tbody tr th:only-of-type {\n",
       "        vertical-align: middle;\n",
       "    }\n",
       "\n",
       "    .dataframe tbody tr th {\n",
       "        vertical-align: top;\n",
       "    }\n",
       "\n",
       "    .dataframe thead th {\n",
       "        text-align: right;\n",
       "    }\n",
       "</style>\n",
       "<table border=\"1\" class=\"dataframe\">\n",
       "  <thead>\n",
       "    <tr style=\"text-align: right;\">\n",
       "      <th></th>\n",
       "      <th>0</th>\n",
       "      <th>1</th>\n",
       "      <th>2</th>\n",
       "    </tr>\n",
       "  </thead>\n",
       "  <tbody>\n",
       "    <tr>\n",
       "      <td>0</td>\n",
       "      <td>AUD</td>\n",
       "      <td>1.0345157</td>\n",
       "      <td>Australian Dollar</td>\n",
       "    </tr>\n",
       "    <tr>\n",
       "      <td>1</td>\n",
       "      <td>CHF</td>\n",
       "      <td>1.0237414</td>\n",
       "      <td>Swiss Franc</td>\n",
       "    </tr>\n",
       "    <tr>\n",
       "      <td>2</td>\n",
       "      <td>CNY</td>\n",
       "      <td>0.1550176</td>\n",
       "      <td>Chinese Yuan</td>\n",
       "    </tr>\n",
       "    <tr>\n",
       "      <td>3</td>\n",
       "      <td>DKK</td>\n",
       "      <td>0.1651442</td>\n",
       "      <td>Danish Krone</td>\n",
       "    </tr>\n",
       "    <tr>\n",
       "      <td>4</td>\n",
       "      <td>EUR</td>\n",
       "      <td>1.2296544</td>\n",
       "      <td>Euro</td>\n",
       "    </tr>\n",
       "    <tr>\n",
       "      <td>5</td>\n",
       "      <td>GBP</td>\n",
       "      <td>1.5550989</td>\n",
       "      <td>British Pound</td>\n",
       "    </tr>\n",
       "    <tr>\n",
       "      <td>6</td>\n",
       "      <td>HKD</td>\n",
       "      <td>0.1270207</td>\n",
       "      <td>Hong Kong Dollar</td>\n",
       "    </tr>\n",
       "    <tr>\n",
       "      <td>7</td>\n",
       "      <td>INR</td>\n",
       "      <td>0.0177643</td>\n",
       "      <td>Indian Rupee</td>\n",
       "    </tr>\n",
       "    <tr>\n",
       "      <td>8</td>\n",
       "      <td>JPY</td>\n",
       "      <td>0.01241401</td>\n",
       "      <td>Japanese Yen</td>\n",
       "    </tr>\n",
       "    <tr>\n",
       "      <td>9</td>\n",
       "      <td>MXN</td>\n",
       "      <td>0.0751848</td>\n",
       "      <td>Mexican Peso</td>\n",
       "    </tr>\n",
       "    <tr>\n",
       "      <td>10</td>\n",
       "      <td>MYR</td>\n",
       "      <td>0.3145411</td>\n",
       "      <td>Malaysian Ringgit</td>\n",
       "    </tr>\n",
       "    <tr>\n",
       "      <td>11</td>\n",
       "      <td>NOK</td>\n",
       "      <td>0.1677063</td>\n",
       "      <td>Norwegian Krone</td>\n",
       "    </tr>\n",
       "    <tr>\n",
       "      <td>12</td>\n",
       "      <td>NZD</td>\n",
       "      <td>0.8003591</td>\n",
       "      <td>New Zealand Dollar</td>\n",
       "    </tr>\n",
       "    <tr>\n",
       "      <td>13</td>\n",
       "      <td>PHP</td>\n",
       "      <td>0.0233234</td>\n",
       "      <td>Philippine Peso</td>\n",
       "    </tr>\n",
       "    <tr>\n",
       "      <td>14</td>\n",
       "      <td>SEK</td>\n",
       "      <td>0.148269</td>\n",
       "      <td>Swedish Krona</td>\n",
       "    </tr>\n",
       "    <tr>\n",
       "      <td>15</td>\n",
       "      <td>SGD</td>\n",
       "      <td>0.788871</td>\n",
       "      <td>Singapore Dollar</td>\n",
       "    </tr>\n",
       "    <tr>\n",
       "      <td>16</td>\n",
       "      <td>THB</td>\n",
       "      <td>0.0313789</td>\n",
       "      <td>Thai Baht</td>\n",
       "    </tr>\n",
       "  </tbody>\n",
       "</table>\n",
       "</div>"
      ],
      "text/plain": [
       "      0           1                   2\n",
       "0   AUD   1.0345157   Australian Dollar\n",
       "1   CHF   1.0237414         Swiss Franc\n",
       "2   CNY   0.1550176        Chinese Yuan\n",
       "3   DKK   0.1651442        Danish Krone\n",
       "4   EUR   1.2296544                Euro\n",
       "5   GBP   1.5550989       British Pound\n",
       "6   HKD   0.1270207    Hong Kong Dollar\n",
       "7   INR   0.0177643        Indian Rupee\n",
       "8   JPY  0.01241401        Japanese Yen\n",
       "9   MXN   0.0751848        Mexican Peso\n",
       "10  MYR   0.3145411   Malaysian Ringgit\n",
       "11  NOK   0.1677063     Norwegian Krone\n",
       "12  NZD   0.8003591  New Zealand Dollar\n",
       "13  PHP   0.0233234     Philippine Peso\n",
       "14  SEK    0.148269       Swedish Krona\n",
       "15  SGD    0.788871    Singapore Dollar\n",
       "16  THB   0.0313789           Thai Baht"
      ]
     },
     "execution_count": 10,
     "metadata": {},
     "output_type": "execute_result"
    }
   ],
   "source": [
    "contents = pd.DataFrame(contents)\n",
    "contents"
   ]
  },
  {
   "cell_type": "code",
   "execution_count": 11,
   "metadata": {},
   "outputs": [],
   "source": [
    "contents = contents.iloc[:,[0,1]]                 #ignoring the last column"
   ]
  },
  {
   "cell_type": "code",
   "execution_count": 12,
   "metadata": {},
   "outputs": [
    {
     "name": "stderr",
     "output_type": "stream",
     "text": [
      "C:\\Users\\ayush\\Anaconda3\\lib\\site-packages\\IPython\\core\\interactiveshell.py:3326: SettingWithCopyWarning: \n",
      "A value is trying to be set on a copy of a slice from a DataFrame\n",
      "\n",
      "See the caveats in the documentation: http://pandas.pydata.org/pandas-docs/stable/user_guide/indexing.html#returning-a-view-versus-a-copy\n",
      "  exec(code_obj, self.user_global_ns, self.user_ns)\n"
     ]
    }
   ],
   "source": [
    "for i in range(len(contents)):\n",
    "    contents[1][i] = float(contents[1][i])"
   ]
  },
  {
   "cell_type": "code",
   "execution_count": 13,
   "metadata": {},
   "outputs": [
    {
     "data": {
      "text/plain": [
       "dict"
      ]
     },
     "execution_count": 13,
     "metadata": {},
     "output_type": "execute_result"
    }
   ],
   "source": [
    "dict"
   ]
  },
  {
   "cell_type": "code",
   "execution_count": 14,
   "metadata": {},
   "outputs": [],
   "source": [
    "arr1= np.array(contents.iloc[:,0])              #2 diff array for short form of currency and conversion rate\n",
    "arr2 = np.array(contents.iloc[:,1])"
   ]
  },
  {
   "cell_type": "code",
   "execution_count": 15,
   "metadata": {},
   "outputs": [
    {
     "data": {
      "text/plain": [
       "numpy.ndarray"
      ]
     },
     "execution_count": 15,
     "metadata": {},
     "output_type": "execute_result"
    }
   ],
   "source": [
    "type(arr2)"
   ]
  },
  {
   "cell_type": "code",
   "execution_count": 16,
   "metadata": {},
   "outputs": [],
   "source": [
    "dict = {}\n",
    "for i, j in zip(arr1,arr2):             #key value pairs in dictionary\n",
    "    dict[i]= j"
   ]
  },
  {
   "cell_type": "code",
   "execution_count": 17,
   "metadata": {},
   "outputs": [],
   "source": [
    "def exchange(symbol, rate):\n",
    "    for i in dict:\n",
    "        if i == symbol:                             #finding the currency\n",
    "            multiplier = dict[i]\n",
    "            return(rate*multiplier)"
   ]
  },
  {
   "cell_type": "code",
   "execution_count": 18,
   "metadata": {},
   "outputs": [
    {
     "data": {
      "text/plain": [
       "1.241401"
      ]
     },
     "execution_count": 18,
     "metadata": {},
     "output_type": "execute_result"
    }
   ],
   "source": [
    "exchange('JPY',100)"
   ]
  },
  {
   "cell_type": "code",
   "execution_count": 19,
   "metadata": {},
   "outputs": [
    {
     "name": "stdout",
     "output_type": "stream",
     "text": [
      "Please enter the symbol: INR\n",
      "Please enter the amount you want to convert: 10000\n"
     ]
    }
   ],
   "source": [
    "a = input(\"Please enter the symbol: \")\n",
    "b = float(input(\"Please enter the amount you want to convert: \"))"
   ]
  },
  {
   "cell_type": "code",
   "execution_count": 20,
   "metadata": {},
   "outputs": [
    {
     "name": "stdout",
     "output_type": "stream",
     "text": [
      "177.643\n"
     ]
    }
   ],
   "source": [
    "print(exchange(a,b))"
   ]
  },
  {
   "cell_type": "code",
   "execution_count": null,
   "metadata": {},
   "outputs": [],
   "source": []
  }
 ],
 "metadata": {
  "kernelspec": {
   "display_name": "Python 3",
   "language": "python",
   "name": "python3"
  },
  "language_info": {
   "codemirror_mode": {
    "name": "ipython",
    "version": 3
   },
   "file_extension": ".py",
   "mimetype": "text/x-python",
   "name": "python",
   "nbconvert_exporter": "python",
   "pygments_lexer": "ipython3",
   "version": "3.7.4"
  }
 },
 "nbformat": 4,
 "nbformat_minor": 4
}
