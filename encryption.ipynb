{
 "cells": [
  {
   "cell_type": "code",
   "execution_count": 1,
   "metadata": {},
   "outputs": [
    {
     "name": "stdout",
     "output_type": "stream",
     "text": [
      "enter the stringsdjfakjfdjdfskdjdfbsdf\n",
      "dict_values([1, 1, 0, 6, 0, 5, 0, 0, 0, 4, 2, 0, 0, 0, 0, 0, 0, 0, 3, 0, 0, 0, 0, 0, 0, 0])\n"
     ]
    }
   ],
   "source": [
    "def frequencies((str1):\n",
    "    alpha = dict()                               #new dict\n",
    "    key = 'abcdefghijklmnopqrstvuwxyz'             \n",
    "    value = 0\n",
    "\n",
    "    for i in range(len(key)):\n",
    "        alpha[key[i]] = value                    #value,key pair set to initial stage a:0, b:0\n",
    "    #print(alpha)\n",
    "    for i in str1:\n",
    "        #print(i)\n",
    "        alpha[i] += 1                            #incrementing each letter as it comes\n",
    "    return(alpha.values())\n",
    "\n",
    "a = input(\"enter the string\")\n",
    "print(frequencies((a))"
   ]
  },
  {
   "cell_type": "code",
   "execution_count": null,
   "metadata": {},
   "outputs": [],
   "source": []
  }
 ],
 "metadata": {
  "kernelspec": {
   "display_name": "Python 3",
   "language": "python",
   "name": "python3"
  },
  "language_info": {
   "codemirror_mode": {
    "name": "ipython",
    "version": 3
   },
   "file_extension": ".py",
   "mimetype": "text/x-python",
   "name": "python",
   "nbconvert_exporter": "python",
   "pygments_lexer": "ipython3",
   "version": "3.7.4"
  }
 },
 "nbformat": 4,
 "nbformat_minor": 2
}
