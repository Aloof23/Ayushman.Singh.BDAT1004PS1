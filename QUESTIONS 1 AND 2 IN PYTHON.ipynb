{
 "cells": [
  {
   "cell_type": "markdown",
   "metadata": {},
   "source": [
    "ANS Q1"
   ]
  },
  {
   "cell_type": "code",
   "execution_count": 3,
   "metadata": {},
   "outputs": [
    {
     "name": "stdout",
     "output_type": "stream",
     "text": [
      "enter the wordTRY\n",
      "RYTay\n"
     ]
    }
   ],
   "source": [
    "def pig(character):\n",
    "    listForVowels = [\"a\",\"e\",\"i\",\"o\",\"u\"]                       #initialize list of vowels\n",
    "    if(character in listForVowels):\n",
    "        return True\n",
    "    else:\n",
    "        return False\n",
    "\n",
    "word = input(\"enter the word\")\n",
    "word.lower()                                            #all to lower case\n",
    "Letter = word[0]                                         #selecting the first letter\n",
    "if(pig(Letter)):\n",
    "    print(word.lower() + \"way\")\n",
    "else:\n",
    "    print(word[1:] + Letter + \"ay\")"
   ]
  },
  {
   "cell_type": "markdown",
   "metadata": {},
   "source": [
    "ANS Q2"
   ]
  },
  {
   "cell_type": "code",
   "execution_count": 2,
   "metadata": {},
   "outputs": [
    {
     "name": "stdout",
     "output_type": "stream",
     "text": [
      "number of patients for blood type AB 13\n",
      "number of patients for blood type B 1\n",
      "number of patients for blood type O 15\n",
      "number of patients for blood type A 15\n"
     ]
    }
   ],
   "source": [
    "def bloodtype(blood):\n",
    "    blood_typ = blood.split(' ')\n",
    "    count = dict()                                  #defining a dictionary\n",
    "    for type in blood_typ:\n",
    "        if type in count:\n",
    "            count[type] += 1                       # increasing the value by 1\n",
    "        else:\n",
    "            count[type] = 1                       #intro new key and a\n",
    "    for type,num in count.items():\n",
    "        print('number of patients for blood type',type,num)\n",
    "with open(r'C:\\Users\\ayush\\Downloads\\bloodtype1.txt') as f:\n",
    "    lines = f.readlines()\n",
    "lines[-1] = lines[-1].strip()                         #removing /n\n",
    "str = \"\"\n",
    "for lit in lines:\n",
    "    str += lit\n",
    "bloodtype(str)"
   ]
  },
  {
   "cell_type": "markdown",
   "metadata": {},
   "source": [
    "ANS Q3 IN SEPARATE FILE"
   ]
  },
  {
   "cell_type": "markdown",
   "metadata": {},
   "source": [
    "ANS Q4 SEPERATE FILE"
   ]
  },
  {
   "cell_type": "markdown",
   "metadata": {},
   "source": [
    "ANS Q5 SEPARATE FILE"
   ]
  }
 ],
 "metadata": {
  "kernelspec": {
   "display_name": "Python 3",
   "language": "python",
   "name": "python3"
  },
  "language_info": {
   "codemirror_mode": {
    "name": "ipython",
    "version": 3
   },
   "file_extension": ".py",
   "mimetype": "text/x-python",
   "name": "python",
   "nbconvert_exporter": "python",
   "pygments_lexer": "ipython3",
   "version": "3.7.4"
  }
 },
 "nbformat": 4,
 "nbformat_minor": 2
}
